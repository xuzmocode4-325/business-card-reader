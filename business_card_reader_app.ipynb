{
 "cells": [
  {
   "cell_type": "code",
   "execution_count": 1,
   "metadata": {},
   "outputs": [],
   "source": [
    "import pytesseract as pyt\n",
    "import cv2 as cv\n",
    "import re \n",
    "from pathlib import Path\n",
    "import os\n",
    "from dotenv import load_dotenv\n",
    "import datetime as dt \n"
   ]
  },
  {
   "cell_type": "code",
   "execution_count": 2,
   "metadata": {},
   "outputs": [],
   "source": [
    "timestamp = dt.datetime.now().strftime(\"%Y%m%d%H%M%S\")"
   ]
  },
  {
   "cell_type": "code",
   "execution_count": 3,
   "metadata": {},
   "outputs": [],
   "source": [
    "def config():\n",
    "    load_dotenv()"
   ]
  },
  {
   "cell_type": "code",
   "execution_count": 4,
   "metadata": {},
   "outputs": [],
   "source": [
    "def read_business_card(input_path):\n",
    "    \"\"\"\n",
    "    Read text information from a business card image using OCR (Optical Character Recognition).\n",
    "\n",
    "    Args:\n",
    "    - input_path (str): Path to the input business card image file.\n",
    "\n",
    "    Returns:\n",
    "    - str: Text extracted from the business card.\n",
    "    \"\"\"\n",
    "\n",
    "    # Set the path to the Tesseract executable (replace 'tesseract_path' with the actual path)\n",
    "    tesseract_path = os.getenv(\"TESSERACT_PATH\")\n",
    "    pyt.pytesseract.tesseract_cmd = tesseract_path\n",
    "\n",
    "    img = cv.imread(cv.samples.findFile(input_path))\n",
    "    img_rgb = cv.cvtColor(img, cv.COLOR_BGR2RGB)\n",
    "\n",
    "    # Uncomment and customize the configuration if needed\n",
    "    # custom_config = r'--oem 3 --psm 6'\n",
    "\n",
    "    # Perform OCR on the input image to extract text\n",
    "    card_text = pyt.image_to_string(img_rgb )  #, config=custom_config)\n",
    "\n",
    "    return card_text"
   ]
  },
  {
   "cell_type": "code",
   "execution_count": 5,
   "metadata": {},
   "outputs": [],
   "source": [
    "def extract_data(card_text):\n",
    "    \"\"\"\n",
    "    Extract contact information from the text of a business card.\n",
    "\n",
    "    Args:\n",
    "    - card_text (str): Text extracted from a business card.\n",
    "\n",
    "    Returns:\n",
    "    - tuple: A tuple containing extracted information - phone numbers, emails, name, title, website.\n",
    "    \"\"\"\n",
    "\n",
    "    # Define a regular expression pattern for websites\n",
    "    url_pattern = re.compile(r'\\b(?:www\\.)?[a-zA-Z0-9-]+\\.[a-zA-Z]{2,}(?:\\.[a-zA-Z]{2,})?\\b')\n",
    "\n",
    "    # Define a regular expression pattern for international phone numbers with seven or more digits\n",
    "    phone_pattern = re.compile(r'\\b(?:\\+[\\d\\s-]+|\\(\\+\\d+\\)|\\d{1,4}[-.\\s]?)\\d{1,9}[-.\\s]?\\d{1,9}[-.\\s]?\\d{1,9}[-.\\s]?\\d{1,9}\\b')\n",
    "\n",
    "    # Define a regular expression pattern for email addresses\n",
    "    email_pattern = re.compile(r'\\b[A-Za-z0-9._%+-]+@[A-Za-z0-9.-]+\\.[A-Z|a-z]{2,}\\b')\n",
    "\n",
    "    # Extract websites, phone numbers, and emails from the card text\n",
    "    websites = [site for site in re.findall(url_pattern, card_text) if 'www' in site]\n",
    "    phone_numbers = [number for number in re.findall(phone_pattern, card_text) if len(number) > 7]\n",
    "    emails = re.findall(email_pattern, card_text)\n",
    "\n",
    "    # Extract name and title using a custom pattern\n",
    "    name_parsing = r\"^[\\w'\\-.][^0-9-!¡?+?¿/\\\\+=@#$%^&*(){}|~<>;:[\\]]{2,}\"\n",
    "    name_title = re.findall(name_parsing, card_text)\n",
    "    text_list = [word for line in name_title for word in line.split(\"\\n\") if len(word) > 3]\n",
    "\n",
    "    # Assign extracted name and title\n",
    "    name = text_list[0] if text_list else None\n",
    "    title = text_list[1] if len(text_list) > 1 else None\n",
    "\n",
    "    return phone_numbers, emails, name, title, websites"
   ]
  },
  {
   "cell_type": "code",
   "execution_count": 6,
   "metadata": {},
   "outputs": [],
   "source": [
    "def create_vcf_file(name, phone_numbers, email, organization, filename=f'contact.vcf'):\n",
    "    \"\"\"\n",
    "    Create a VCF (Virtual Contact File) with the provided information.\n",
    "\n",
    "    Args:\n",
    "    - first_name (str): First name of the contact.\n",
    "    - last_name (str): Last name of the contact.\n",
    "    - phone_number (str): Phone number of the contact.\n",
    "    - email (str): Email address of the contact.\n",
    "    - organization (str): Organization of the contact.\n",
    "    - filename (str, optional): Name of the output VCF file. Defaults to 'contact.vcf'.\n",
    "    \"\"\"\n",
    "\n",
    "    vcf_content = f\"\"\"BEGIN:VCARD\n",
    "VERSION:3.0\n",
    "FN:{name}\n",
    "ORG:{organization}\n",
    "TEL:{phone_numbers[0]}\n",
    "EMAIL:{email[0]}\n",
    "END:VCARD\n",
    "\"\"\"\n",
    "\n",
    "    print(vcf_content)\n",
    "    with open(filename, 'r+') as vcf_file:\n",
    "        vcf_file.write(vcf_content)"
   ]
  },
  {
   "cell_type": "code",
   "execution_count": 7,
   "metadata": {},
   "outputs": [],
   "source": [
    "file = \"cards/download-3.jpg\"\n"
   ]
  },
  {
   "cell_type": "code",
   "execution_count": 8,
   "metadata": {},
   "outputs": [
    {
     "ename": "TesseractNotFoundError",
     "evalue": "r\"C:\\Users\\katle\\AppData\\Local\\Programs\\Tesseract-OCR\\tesseract.exe\" is not installed or it's not in your PATH. See README file for more information.",
     "output_type": "error",
     "traceback": [
      "\u001b[1;31m---------------------------------------------------------------------------\u001b[0m",
      "\u001b[1;31mFileNotFoundError\u001b[0m                         Traceback (most recent call last)",
      "File \u001b[1;32mc:\\Users\\katle\\anaconda3\\envs\\dl_env\\Lib\\site-packages\\pytesseract\\pytesseract.py:255\u001b[0m, in \u001b[0;36mrun_tesseract\u001b[1;34m(input_filename, output_filename_base, extension, lang, config, nice, timeout)\u001b[0m\n\u001b[0;32m    254\u001b[0m \u001b[39mtry\u001b[39;00m:\n\u001b[1;32m--> 255\u001b[0m     proc \u001b[39m=\u001b[39m subprocess\u001b[39m.\u001b[39;49mPopen(cmd_args, \u001b[39m*\u001b[39;49m\u001b[39m*\u001b[39;49msubprocess_args())\n\u001b[0;32m    256\u001b[0m \u001b[39mexcept\u001b[39;00m \u001b[39mOSError\u001b[39;00m \u001b[39mas\u001b[39;00m e:\n",
      "File \u001b[1;32mc:\\Users\\katle\\anaconda3\\envs\\dl_env\\Lib\\subprocess.py:1026\u001b[0m, in \u001b[0;36mPopen.__init__\u001b[1;34m(self, args, bufsize, executable, stdin, stdout, stderr, preexec_fn, close_fds, shell, cwd, env, universal_newlines, startupinfo, creationflags, restore_signals, start_new_session, pass_fds, user, group, extra_groups, encoding, errors, text, umask, pipesize, process_group)\u001b[0m\n\u001b[0;32m   1023\u001b[0m             \u001b[39mself\u001b[39m\u001b[39m.\u001b[39mstderr \u001b[39m=\u001b[39m io\u001b[39m.\u001b[39mTextIOWrapper(\u001b[39mself\u001b[39m\u001b[39m.\u001b[39mstderr,\n\u001b[0;32m   1024\u001b[0m                     encoding\u001b[39m=\u001b[39mencoding, errors\u001b[39m=\u001b[39merrors)\n\u001b[1;32m-> 1026\u001b[0m     \u001b[39mself\u001b[39;49m\u001b[39m.\u001b[39;49m_execute_child(args, executable, preexec_fn, close_fds,\n\u001b[0;32m   1027\u001b[0m                         pass_fds, cwd, env,\n\u001b[0;32m   1028\u001b[0m                         startupinfo, creationflags, shell,\n\u001b[0;32m   1029\u001b[0m                         p2cread, p2cwrite,\n\u001b[0;32m   1030\u001b[0m                         c2pread, c2pwrite,\n\u001b[0;32m   1031\u001b[0m                         errread, errwrite,\n\u001b[0;32m   1032\u001b[0m                         restore_signals,\n\u001b[0;32m   1033\u001b[0m                         gid, gids, uid, umask,\n\u001b[0;32m   1034\u001b[0m                         start_new_session, process_group)\n\u001b[0;32m   1035\u001b[0m \u001b[39mexcept\u001b[39;00m:\n\u001b[0;32m   1036\u001b[0m     \u001b[39m# Cleanup if the child failed starting.\u001b[39;00m\n",
      "File \u001b[1;32mc:\\Users\\katle\\anaconda3\\envs\\dl_env\\Lib\\subprocess.py:1538\u001b[0m, in \u001b[0;36mPopen._execute_child\u001b[1;34m(self, args, executable, preexec_fn, close_fds, pass_fds, cwd, env, startupinfo, creationflags, shell, p2cread, p2cwrite, c2pread, c2pwrite, errread, errwrite, unused_restore_signals, unused_gid, unused_gids, unused_uid, unused_umask, unused_start_new_session, unused_process_group)\u001b[0m\n\u001b[0;32m   1537\u001b[0m \u001b[39mtry\u001b[39;00m:\n\u001b[1;32m-> 1538\u001b[0m     hp, ht, pid, tid \u001b[39m=\u001b[39m _winapi\u001b[39m.\u001b[39;49mCreateProcess(executable, args,\n\u001b[0;32m   1539\u001b[0m                              \u001b[39m# no special security\u001b[39;49;00m\n\u001b[0;32m   1540\u001b[0m                              \u001b[39mNone\u001b[39;49;00m, \u001b[39mNone\u001b[39;49;00m,\n\u001b[0;32m   1541\u001b[0m                              \u001b[39mint\u001b[39;49m(\u001b[39mnot\u001b[39;49;00m close_fds),\n\u001b[0;32m   1542\u001b[0m                              creationflags,\n\u001b[0;32m   1543\u001b[0m                              env,\n\u001b[0;32m   1544\u001b[0m                              cwd,\n\u001b[0;32m   1545\u001b[0m                              startupinfo)\n\u001b[0;32m   1546\u001b[0m \u001b[39mfinally\u001b[39;00m:\n\u001b[0;32m   1547\u001b[0m     \u001b[39m# Child is launched. Close the parent's copy of those pipe\u001b[39;00m\n\u001b[0;32m   1548\u001b[0m     \u001b[39m# handles that only the child should have open.  You need\u001b[39;00m\n\u001b[1;32m   (...)\u001b[0m\n\u001b[0;32m   1551\u001b[0m     \u001b[39m# pipe will not close when the child process exits and the\u001b[39;00m\n\u001b[0;32m   1552\u001b[0m     \u001b[39m# ReadFile will hang.\u001b[39;00m\n",
      "\u001b[1;31mFileNotFoundError\u001b[0m: [WinError 2] The system cannot find the file specified",
      "\nDuring handling of the above exception, another exception occurred:\n",
      "\u001b[1;31mTesseractNotFoundError\u001b[0m                    Traceback (most recent call last)",
      "\u001b[1;32mc:\\Users\\katle\\Documents\\Code Projects\\Business Card Reader\\business_card_reader_app.ipynb Cell 8\u001b[0m line \u001b[0;36m1\n\u001b[1;32m----> <a href='vscode-notebook-cell:/c%3A/Users/katle/Documents/Code%20Projects/Business%20Card%20Reader/business_card_reader_app.ipynb#W6sZmlsZQ%3D%3D?line=0'>1</a>\u001b[0m card_text \u001b[39m=\u001b[39m read_business_card(file)\n",
      "\u001b[1;32mc:\\Users\\katle\\Documents\\Code Projects\\Business Card Reader\\business_card_reader_app.ipynb Cell 8\u001b[0m line \u001b[0;36m2\n\u001b[0;32m     <a href='vscode-notebook-cell:/c%3A/Users/katle/Documents/Code%20Projects/Business%20Card%20Reader/business_card_reader_app.ipynb#W6sZmlsZQ%3D%3D?line=16'>17</a>\u001b[0m img_rgb \u001b[39m=\u001b[39m cv\u001b[39m.\u001b[39mcvtColor(img, cv\u001b[39m.\u001b[39mCOLOR_BGR2RGB)\n\u001b[0;32m     <a href='vscode-notebook-cell:/c%3A/Users/katle/Documents/Code%20Projects/Business%20Card%20Reader/business_card_reader_app.ipynb#W6sZmlsZQ%3D%3D?line=18'>19</a>\u001b[0m \u001b[39m# Uncomment and customize the configuration if needed\u001b[39;00m\n\u001b[0;32m     <a href='vscode-notebook-cell:/c%3A/Users/katle/Documents/Code%20Projects/Business%20Card%20Reader/business_card_reader_app.ipynb#W6sZmlsZQ%3D%3D?line=19'>20</a>\u001b[0m \u001b[39m# custom_config = r'--oem 3 --psm 6'\u001b[39;00m\n\u001b[0;32m     <a href='vscode-notebook-cell:/c%3A/Users/katle/Documents/Code%20Projects/Business%20Card%20Reader/business_card_reader_app.ipynb#W6sZmlsZQ%3D%3D?line=20'>21</a>\u001b[0m \n\u001b[0;32m     <a href='vscode-notebook-cell:/c%3A/Users/katle/Documents/Code%20Projects/Business%20Card%20Reader/business_card_reader_app.ipynb#W6sZmlsZQ%3D%3D?line=21'>22</a>\u001b[0m \u001b[39m# Perform OCR on the input image to extract text\u001b[39;00m\n\u001b[1;32m---> <a href='vscode-notebook-cell:/c%3A/Users/katle/Documents/Code%20Projects/Business%20Card%20Reader/business_card_reader_app.ipynb#W6sZmlsZQ%3D%3D?line=22'>23</a>\u001b[0m card_text \u001b[39m=\u001b[39m pyt\u001b[39m.\u001b[39;49mimage_to_string(img_rgb )  \u001b[39m#, config=custom_config)\u001b[39;00m\n\u001b[0;32m     <a href='vscode-notebook-cell:/c%3A/Users/katle/Documents/Code%20Projects/Business%20Card%20Reader/business_card_reader_app.ipynb#W6sZmlsZQ%3D%3D?line=24'>25</a>\u001b[0m \u001b[39mreturn\u001b[39;00m card_text\n",
      "File \u001b[1;32mc:\\Users\\katle\\anaconda3\\envs\\dl_env\\Lib\\site-packages\\pytesseract\\pytesseract.py:423\u001b[0m, in \u001b[0;36mimage_to_string\u001b[1;34m(image, lang, config, nice, output_type, timeout)\u001b[0m\n\u001b[0;32m    418\u001b[0m \u001b[39m\u001b[39m\u001b[39m\"\"\"\u001b[39;00m\n\u001b[0;32m    419\u001b[0m \u001b[39mReturns the result of a Tesseract OCR run on the provided image to string\u001b[39;00m\n\u001b[0;32m    420\u001b[0m \u001b[39m\"\"\"\u001b[39;00m\n\u001b[0;32m    421\u001b[0m args \u001b[39m=\u001b[39m [image, \u001b[39m'\u001b[39m\u001b[39mtxt\u001b[39m\u001b[39m'\u001b[39m, lang, config, nice, timeout]\n\u001b[1;32m--> 423\u001b[0m \u001b[39mreturn\u001b[39;00m {\n\u001b[0;32m    424\u001b[0m     Output\u001b[39m.\u001b[39;49mBYTES: \u001b[39mlambda\u001b[39;49;00m: run_and_get_output(\u001b[39m*\u001b[39;49m(args \u001b[39m+\u001b[39;49m [\u001b[39mTrue\u001b[39;49;00m])),\n\u001b[0;32m    425\u001b[0m     Output\u001b[39m.\u001b[39;49mDICT: \u001b[39mlambda\u001b[39;49;00m: {\u001b[39m'\u001b[39;49m\u001b[39mtext\u001b[39;49m\u001b[39m'\u001b[39;49m: run_and_get_output(\u001b[39m*\u001b[39;49margs)},\n\u001b[0;32m    426\u001b[0m     Output\u001b[39m.\u001b[39;49mSTRING: \u001b[39mlambda\u001b[39;49;00m: run_and_get_output(\u001b[39m*\u001b[39;49margs),\n\u001b[0;32m    427\u001b[0m }[output_type]()\n",
      "File \u001b[1;32mc:\\Users\\katle\\anaconda3\\envs\\dl_env\\Lib\\site-packages\\pytesseract\\pytesseract.py:426\u001b[0m, in \u001b[0;36mimage_to_string.<locals>.<lambda>\u001b[1;34m()\u001b[0m\n\u001b[0;32m    418\u001b[0m \u001b[39m\u001b[39m\u001b[39m\"\"\"\u001b[39;00m\n\u001b[0;32m    419\u001b[0m \u001b[39mReturns the result of a Tesseract OCR run on the provided image to string\u001b[39;00m\n\u001b[0;32m    420\u001b[0m \u001b[39m\"\"\"\u001b[39;00m\n\u001b[0;32m    421\u001b[0m args \u001b[39m=\u001b[39m [image, \u001b[39m'\u001b[39m\u001b[39mtxt\u001b[39m\u001b[39m'\u001b[39m, lang, config, nice, timeout]\n\u001b[0;32m    423\u001b[0m \u001b[39mreturn\u001b[39;00m {\n\u001b[0;32m    424\u001b[0m     Output\u001b[39m.\u001b[39mBYTES: \u001b[39mlambda\u001b[39;00m: run_and_get_output(\u001b[39m*\u001b[39m(args \u001b[39m+\u001b[39m [\u001b[39mTrue\u001b[39;00m])),\n\u001b[0;32m    425\u001b[0m     Output\u001b[39m.\u001b[39mDICT: \u001b[39mlambda\u001b[39;00m: {\u001b[39m'\u001b[39m\u001b[39mtext\u001b[39m\u001b[39m'\u001b[39m: run_and_get_output(\u001b[39m*\u001b[39margs)},\n\u001b[1;32m--> 426\u001b[0m     Output\u001b[39m.\u001b[39mSTRING: \u001b[39mlambda\u001b[39;00m: run_and_get_output(\u001b[39m*\u001b[39;49margs),\n\u001b[0;32m    427\u001b[0m }[output_type]()\n",
      "File \u001b[1;32mc:\\Users\\katle\\anaconda3\\envs\\dl_env\\Lib\\site-packages\\pytesseract\\pytesseract.py:288\u001b[0m, in \u001b[0;36mrun_and_get_output\u001b[1;34m(image, extension, lang, config, nice, timeout, return_bytes)\u001b[0m\n\u001b[0;32m    277\u001b[0m \u001b[39mwith\u001b[39;00m save(image) \u001b[39mas\u001b[39;00m (temp_name, input_filename):\n\u001b[0;32m    278\u001b[0m     kwargs \u001b[39m=\u001b[39m {\n\u001b[0;32m    279\u001b[0m         \u001b[39m'\u001b[39m\u001b[39minput_filename\u001b[39m\u001b[39m'\u001b[39m: input_filename,\n\u001b[0;32m    280\u001b[0m         \u001b[39m'\u001b[39m\u001b[39moutput_filename_base\u001b[39m\u001b[39m'\u001b[39m: temp_name,\n\u001b[1;32m   (...)\u001b[0m\n\u001b[0;32m    285\u001b[0m         \u001b[39m'\u001b[39m\u001b[39mtimeout\u001b[39m\u001b[39m'\u001b[39m: timeout,\n\u001b[0;32m    286\u001b[0m     }\n\u001b[1;32m--> 288\u001b[0m     run_tesseract(\u001b[39m*\u001b[39;49m\u001b[39m*\u001b[39;49mkwargs)\n\u001b[0;32m    289\u001b[0m     filename \u001b[39m=\u001b[39m \u001b[39mf\u001b[39m\u001b[39m\"\u001b[39m\u001b[39m{\u001b[39;00mkwargs[\u001b[39m'\u001b[39m\u001b[39moutput_filename_base\u001b[39m\u001b[39m'\u001b[39m]\u001b[39m}\u001b[39;00m\u001b[39m{\u001b[39;00mextsep\u001b[39m}\u001b[39;00m\u001b[39m{\u001b[39;00mextension\u001b[39m}\u001b[39;00m\u001b[39m\"\u001b[39m\n\u001b[0;32m    290\u001b[0m     \u001b[39mwith\u001b[39;00m \u001b[39mopen\u001b[39m(filename, \u001b[39m'\u001b[39m\u001b[39mrb\u001b[39m\u001b[39m'\u001b[39m) \u001b[39mas\u001b[39;00m output_file:\n",
      "File \u001b[1;32mc:\\Users\\katle\\anaconda3\\envs\\dl_env\\Lib\\site-packages\\pytesseract\\pytesseract.py:260\u001b[0m, in \u001b[0;36mrun_tesseract\u001b[1;34m(input_filename, output_filename_base, extension, lang, config, nice, timeout)\u001b[0m\n\u001b[0;32m    258\u001b[0m         \u001b[39mraise\u001b[39;00m\n\u001b[0;32m    259\u001b[0m     \u001b[39melse\u001b[39;00m:\n\u001b[1;32m--> 260\u001b[0m         \u001b[39mraise\u001b[39;00m TesseractNotFoundError()\n\u001b[0;32m    262\u001b[0m \u001b[39mwith\u001b[39;00m timeout_manager(proc, timeout) \u001b[39mas\u001b[39;00m error_string:\n\u001b[0;32m    263\u001b[0m     \u001b[39mif\u001b[39;00m proc\u001b[39m.\u001b[39mreturncode:\n",
      "\u001b[1;31mTesseractNotFoundError\u001b[0m: r\"C:\\Users\\katle\\AppData\\Local\\Programs\\Tesseract-OCR\\tesseract.exe\" is not installed or it's not in your PATH. See README file for more information."
     ]
    }
   ],
   "source": [
    "card_text = read_business_card(file)"
   ]
  },
  {
   "cell_type": "code",
   "execution_count": null,
   "metadata": {},
   "outputs": [],
   "source": [
    "print(card_text)"
   ]
  },
  {
   "cell_type": "code",
   "execution_count": null,
   "metadata": {},
   "outputs": [],
   "source": [
    "# Define a regular expression pattern for email addresses\n",
    "email_pattern = re.compile(r'\\b[A-Za-z0-9._%+-]+@[A-Za-z0-9.-]+\\.[A-Z|a-z]{2,}\\b')\n",
    "\n",
    "# Find all matches in the text\n",
    "email_addresses = email_pattern.findall(card_text)\n",
    "\n",
    "# Print the extracted email addresses\n",
    "print(\"Email Addresses:\", email_addresses)"
   ]
  },
  {
   "cell_type": "code",
   "execution_count": null,
   "metadata": {},
   "outputs": [],
   "source": [
    "website_pattern = re.compile(r'\\b(?:www\\.)?[a-zA-Z0-9-]+\\.[a-zA-Z]{2,}(?:\\.[a-zA-Z]{2,})?\\b')\n",
    "\n",
    "# Find all matches in the text\n",
    "websites = website_pattern.findall(card_text)\n",
    "\n",
    "# Print the extracted websites\n",
    "print(\"Websites:\", websites)\n",
    "\n",
    "phone_pattern = re.compile(r'\\b(?:\\+[\\d\\s-]+|\\(\\+\\d+\\)|\\d{1,4}[-.\\s]?)\\d{1,9}[-.\\s]?\\d{1,9}[-.\\s]?\\d{1,9}[-.\\s]?\\d{1,9}\\b')\n",
    "# Find all matches in the text\n",
    "phone_numbers = phone_pattern.findall(card_text)\n",
    "\n",
    "# Print the extracted phone numbers\n",
    "print(\"Phone Numbers:\", phone_numbers)"
   ]
  },
  {
   "cell_type": "code",
   "execution_count": null,
   "metadata": {},
   "outputs": [],
   "source": [
    "phone_numbers, emails, name, title, website = extract_data(card_text)"
   ]
  },
  {
   "cell_type": "code",
   "execution_count": null,
   "metadata": {},
   "outputs": [],
   "source": [
    "print(f\"\"\"\n",
    "{phone_numbers}\n",
    "{emails}\n",
    "{name}\n",
    "{title}\n",
    "{website}\n",
    "\"\"\")"
   ]
  },
  {
   "cell_type": "code",
   "execution_count": null,
   "metadata": {},
   "outputs": [],
   "source": [
    "create_vcf_file(name, phone_numbers, emails, organization=title)"
   ]
  },
  {
   "cell_type": "code",
   "execution_count": null,
   "metadata": {},
   "outputs": [],
   "source": [
    "import spacy\n",
    "\n",
    "# Load the spaCy model\n",
    "nlp = spacy.load('en_core_web_sm')\n",
    "\n",
    "# Sample text from a business card\n",
    "business_card_text = \"\"\"\n",
    "John Doe\n",
    "CEO\n",
    "Acme Corporation\n",
    "\"\"\"\n",
    "\n",
    "# Process the text with spaCy\n",
    "doc = nlp(card_text)\n",
    "\n",
    "# Extract named entities and categorize them\n",
    "entities = {ent.text:ent.label_ for ent in doc.ents}\n",
    "\n",
    "# Print the categorized entities\n",
    "print(entities)"
   ]
  }
 ],
 "metadata": {
  "kernelspec": {
   "display_name": "dl_env",
   "language": "python",
   "name": "python3"
  },
  "language_info": {
   "codemirror_mode": {
    "name": "ipython",
    "version": 3
   },
   "file_extension": ".py",
   "mimetype": "text/x-python",
   "name": "python",
   "nbconvert_exporter": "python",
   "pygments_lexer": "ipython3",
   "version": "3.11.5"
  }
 },
 "nbformat": 4,
 "nbformat_minor": 2
}
